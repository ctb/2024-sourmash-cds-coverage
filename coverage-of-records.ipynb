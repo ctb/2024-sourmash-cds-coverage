{
 "cells": [
  {
   "cell_type": "markdown",
   "id": "e51b7326-0b45-4446-8552-a900fa2ac013",
   "metadata": {},
   "source": [
    "# Examining coverage of records by sourmash hashes for DNA and AA k-mers"
   ]
  },
  {
   "cell_type": "code",
   "execution_count": 1,
   "id": "a7d79c06-0ab9-4ff8-a6e1-69641da1abef",
   "metadata": {},
   "outputs": [
    {
     "name": "stdout",
     "output_type": "stream",
     "text": [
      "GCF_001650295.1_ASM165029v1_genomic.fna\n",
      "cds_from_genomic.fna\n",
      "protein.faa\n"
     ]
    }
   ],
   "source": [
    "ls data"
   ]
  },
  {
   "cell_type": "code",
   "execution_count": 2,
   "id": "055ef7ef-9f0d-4bf2-92f2-4672ef915ac3",
   "metadata": {},
   "outputs": [],
   "source": [
    "import sourmash\n",
    "from sourmash.minhash import _get_max_hash_for_scaled\n",
    "import screed\n",
    "from collections import defaultdict\n",
    "from matplotlib import pylab\n",
    "import numpy as np"
   ]
  },
  {
   "cell_type": "code",
   "execution_count": 3,
   "id": "fbbcd438-1aae-4cce-bd21-753373f17f5b",
   "metadata": {},
   "outputs": [],
   "source": [
    "sources = { \"CDS\": \"data/cds_from_genomic.fna\", # DNA / coding sequences\n",
    "            \"prot\": \"data/protein.faa\" } # protein sequences"
   ]
  },
  {
   "cell_type": "code",
   "execution_count": 4,
   "id": "92ec6b91-106d-4a0e-b16d-4c48d80b283f",
   "metadata": {},
   "outputs": [],
   "source": [
    "def sketch_by_record(filename, minhash):\n",
    "    rev_d = defaultdict(set)\n",
    "    record_names = defaultdict(int)\n",
    "    with screed.open(filename) as records:\n",
    "        for record in records:\n",
    "            record_names[record.name] = len(record.sequence)\n",
    "            mh = minhash.copy_and_clear()\n",
    "            if minhash.moltype == 'DNA':\n",
    "                mh.add_sequence(record.sequence, force=True)\n",
    "            elif minhash.moltype == 'protein':\n",
    "                mh.add_protein(record.sequence)\n",
    "            else:\n",
    "                assert 0\n",
    "            for hashval in mh.hashes:\n",
    "                rev_d[hashval].add(record.name)\n",
    "    return record_names, rev_d\n",
    "\n"
   ]
  },
  {
   "cell_type": "code",
   "execution_count": 5,
   "id": "6678ea30-dcd6-4a98-a762-8972f0eb5866",
   "metadata": {},
   "outputs": [],
   "source": [
    "class HashCoverageOfRecords:\n",
    "    def __init__(self, ksize, min_scaled, moltype, filename):\n",
    "        self.ksize = int(ksize)\n",
    "        self.min_scaled = int(min_scaled)\n",
    "        assert moltype in ('DNA', 'protein')\n",
    "        self.moltype = moltype\n",
    "        self.filename = filename\n",
    "\n",
    "        is_protein=None\n",
    "        if moltype == 'protein':\n",
    "            is_protein = True\n",
    "        elif moltype == 'DNA':\n",
    "            is_protein = False\n",
    "\n",
    "        self.base_minhash = sourmash.MinHash(n=0, ksize=ksize, scaled=min_scaled, is_protein=is_protein)\n",
    "        self.load()\n",
    "\n",
    "    def load(self):\n",
    "        names, rev_d = sketch_by_record(self.filename, self.base_minhash)\n",
    "        self.names_to_size = names\n",
    "        self.hashes_to_records_d = rev_d\n",
    "\n",
    "    def calc_missing(self, scaled):\n",
    "        names = self.names_to_size\n",
    "        rev_d = self.hashes_to_records_d\n",
    "\n",
    "        scaled = int(scaled)\n",
    "\n",
    "        hit = set()\n",
    "        names_set = set(names)\n",
    "        for hashval, v in rev_d.items():\n",
    "            max_hash = _get_max_hash_for_scaled(scaled)\n",
    "            if hashval < max_hash:\n",
    "                hit.update(v)\n",
    "    \n",
    "        assert not hit - names_set\n",
    "\n",
    "        # link missing names to size in original dict\n",
    "        missing_d = dict( ((k, names[k]) for k in names_set - hit) )\n",
    "\n",
    "        # return size of intersection, dict of missing names -> sizes\n",
    "        return hit.intersection(names_set), missing_d\n",
    "\n",
    "    def print_missing_stats(self, scaled):\n",
    "        scaled = int(scaled)\n",
    "        found, missing = self.calc_missing(scaled=scaled)\n",
    "\n",
    "        total = len(found) + len(missing)\n",
    "        assert total == len(self.names_to_size), (len(self.names_to_size), len(found), len(missing))\n",
    "    \n",
    "        p_found = f\"{len(found) / total * 100:.1f}%\"\n",
    "        p_missing = f\"{len(missing) / total * 100:.1f}%\"\n",
    "    \n",
    "        if scaled is not None:\n",
    "            print(f\"Found {len(found)} ({p_found}) / missed {len(missing)} ({p_missing}) @ scaled={scaled}\")\n",
    "        else:\n",
    "            print(f\"Found {len(found)} ({p_found}) / missed {len(missing)} ({p_missing})\")\n",
    "\n",
    "    def calc_missing_stats(self, scaled_list):\n",
    "        x_missing = []\n",
    "        x_missing_f = []\n",
    "        \n",
    "        for scaled in scaled_list:\n",
    "            _, missing = self.calc_missing(scaled=scaled)\n",
    "            x_missing.append(len(missing))\n",
    "            x_missing_f.append(len(missing) / len(self.names_to_size))        \n",
    "\n",
    "        return np.array(x_missing), np.array(x_missing_f)"
   ]
  },
  {
   "cell_type": "code",
   "execution_count": 6,
   "id": "3f474b61-7dbc-4cb6-8c6b-9fbcb4a707ad",
   "metadata": {},
   "outputs": [
    {
     "name": "stdout",
     "output_type": "stream",
     "text": [
      "Found 5745 (100.0%) / missed 0 (0.0%) @ scaled=10\n"
     ]
    }
   ],
   "source": [
    "dna_ksize = 15\n",
    "dna_cov = HashCoverageOfRecords(dna_ksize, 10, 'DNA', sources[\"CDS\"])\n",
    "dna_cov.print_missing_stats(scaled=10)"
   ]
  },
  {
   "cell_type": "code",
   "execution_count": 7,
   "id": "6ff6cf4d-a4bc-4ea3-9dc5-ada3874e4209",
   "metadata": {},
   "outputs": [
    {
     "name": "stdout",
     "output_type": "stream",
     "text": [
      "Found 5541 (96.4%) / missed 204 (3.6%) @ scaled=100\n",
      "Found 2907 (50.6%) / missed 2838 (49.4%) @ scaled=1000\n"
     ]
    }
   ],
   "source": [
    "dna_cov.print_missing_stats(scaled=100)\n",
    "dna_cov.print_missing_stats(scaled=1000)"
   ]
  },
  {
   "cell_type": "code",
   "execution_count": 8,
   "id": "4623d8d3-887f-4a4d-99e6-d9c56f8b9f8f",
   "metadata": {},
   "outputs": [
    {
     "name": "stdout",
     "output_type": "stream",
     "text": [
      "Found 5541 (96.4%) / missed 204 (3.6%) @ scaled=100\n",
      "sizes of missed records: []\n"
     ]
    }
   ],
   "source": [
    "dna_cov.print_missing_stats(scaled=100)\n",
    "_, missing = dna_cov.calc_missing(scaled=10)\n",
    "print('sizes of missed records:', list(missing.values()))"
   ]
  },
  {
   "cell_type": "code",
   "execution_count": 9,
   "id": "837ac84d-f396-454b-be49-071b52a0018f",
   "metadata": {},
   "outputs": [
    {
     "name": "stdout",
     "output_type": "stream",
     "text": [
      "Found 5011 (99.6%) / missed 20 (0.4%) @ scaled=10\n"
     ]
    }
   ],
   "source": [
    "prot_ksize = 7\n",
    "prot_cov = HashCoverageOfRecords(prot_ksize, 10, 'protein', sources[\"prot\"])\n",
    "prot_cov.print_missing_stats(scaled=10)"
   ]
  },
  {
   "cell_type": "code",
   "execution_count": 10,
   "id": "2c25a249-9a4d-4e17-8e23-e109ab607d63",
   "metadata": {},
   "outputs": [
    {
     "name": "stdout",
     "output_type": "stream",
     "text": [
      "Found 5011 (99.6%) / missed 20 (0.4%) @ scaled=10\n",
      "Found 4204 (83.6%) / missed 827 (16.4%) @ scaled=100\n",
      "Found 1226 (24.4%) / missed 3805 (75.6%) @ scaled=1000\n"
     ]
    }
   ],
   "source": [
    "prot_cov.print_missing_stats(scaled=10)\n",
    "prot_cov.print_missing_stats(scaled=100)\n",
    "prot_cov.print_missing_stats(scaled=1000)"
   ]
  },
  {
   "cell_type": "code",
   "execution_count": 11,
   "id": "6479f7c3-e8be-4d96-86db-d46a48e3347a",
   "metadata": {},
   "outputs": [],
   "source": [
    "scaled_vals = [10, 20, 50, 100, 200, 500, 1000]\n",
    "\n",
    "dna_missing, dna_missing_f = dna_cov.calc_missing_stats(scaled_vals)\n",
    "prot_missing, prot_missing_f = prot_cov.calc_missing_stats(scaled_vals)\n",
    "\n"
   ]
  },
  {
   "cell_type": "code",
   "execution_count": 12,
   "id": "786f803d-14c7-4160-93f5-4355999281e5",
   "metadata": {},
   "outputs": [
    {
     "data": {
      "text/plain": [
       "<matplotlib.legend.Legend at 0x155e17fd0>"
      ]
     },
     "execution_count": 12,
     "metadata": {},
     "output_type": "execute_result"
    },
    {
     "data": {
      "image/png": "[encoded data removed]",
      "text/plain": [
       "<Figure size 640x480 with 1 Axes>"
      ]
     },
     "metadata": {},
     "output_type": "display_data"
    }
   ],
   "source": [
    "dna_found_p = (1 - np.array(dna_missing_f)) * 100\n",
    "prot_found_p = (1 - np.array(prot_missing_f)) * 100\n",
    "\n",
    "pylab.plot(scaled_vals, dna_found_p, 'b*-', label=f'dna k={dna_cov.ksize}')\n",
    "pylab.plot(scaled_vals, prot_found_p, 'g+-', label=f'protein k={prot_cov.ksize}')\n",
    "pylab.ylim(0, 110)\n",
    "pylab.xlim(0, 500)\n",
    "pylab.xlabel('scaled value')\n",
    "pylab.ylabel('% genes with at least one hash')\n",
    "pylab.title('response curve of genes caught vs scaled, for a bacterial genome')\n",
    "pylab.legend(loc='lower left')"
   ]
  },
  {
   "cell_type": "code",
   "execution_count": null,
   "id": "16b761cd-89dd-4e37-8b00-999b577545ab",
   "metadata": {},
   "outputs": [],
   "source": []
  }
 ],
 "metadata": {
  "kernelspec": {
   "display_name": "py3111arm",
   "language": "python",
   "name": "py3111arm"
  },
  "language_info": {
   "codemirror_mode": {
    "name": "ipython",
    "version": 3
   },
   "file_extension": ".py",
   "mimetype": "text/x-python",
   "name": "python",
   "nbconvert_exporter": "python",
   "pygments_lexer": "ipython3",
   "version": "3.11.6"
  }
 },
 "nbformat": 4,
 "nbformat_minor": 5
}
